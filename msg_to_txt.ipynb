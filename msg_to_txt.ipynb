{
 "cells": [
  {
   "cell_type": "code",
   "execution_count": null,
   "id": "8fec834d",
   "metadata": {},
   "outputs": [],
   "source": [
    "Pathname= r'C:\\Users\\zz2840\\Documents\\ML\\work\\test\\files'\n",
    "import win32com.client\n",
    "import os\n",
    "a=1\n",
    "p= r'C:\\Users\\zz2840\\Documents\\ML\\work\\test\\files\\folders\\msg'\n",
    "files = [f for f in os.listdir('C:/Users/zz2840/Documents/ML/work/test/files/folders/msg/')]\n",
    "for file in files:\n",
    "    if file.endswith(\".msg\"):\n",
    "        outlook = win32com.client.Dispatch(\"Outlook.Application\").GetNamespace(\"MAPI\")\n",
    "        msg = outlook.OpenSharedItem(os.path.join(p, file))        \n",
    "        att=msg.Attachments\n",
    "        print(a)\n",
    "        a=a+1\n",
    "        for i in att:\n",
    "            i.SaveAsFile(os.path.join(Pathname, i.FileName))#Saves the file with the attachment name"
   ]
  }
 ],
 "metadata": {
  "kernelspec": {
   "display_name": "Python 3",
   "language": "python",
   "name": "python3"
  },
  "language_info": {
   "codemirror_mode": {
    "name": "ipython",
    "version": 3
   },
   "file_extension": ".py",
   "mimetype": "text/x-python",
   "name": "python",
   "nbconvert_exporter": "python",
   "pygments_lexer": "ipython3",
   "version": "3.6.13"
  }
 },
 "nbformat": 4,
 "nbformat_minor": 5
}
